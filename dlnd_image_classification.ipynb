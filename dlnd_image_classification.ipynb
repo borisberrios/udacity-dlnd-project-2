{
 "cells": [
  {
   "cell_type": "markdown",
   "metadata": {
    "collapsed": true,
    "deletable": true,
    "editable": true
   },
   "source": [
    "# Image Classification\n",
    "In this project, you'll classify images from the [CIFAR-10 dataset](https://www.cs.toronto.edu/~kriz/cifar.html).  The dataset consists of airplanes, dogs, cats, and other objects. You'll preprocess the images, then train a convolutional neural network on all the samples. The images need to be normalized and the labels need to be one-hot encoded.  You'll get to apply what you learned and build a convolutional, max pooling, dropout, and fully connected layers.  At the end, you'll get to see your neural network's predictions on the sample images.\n",
    "## Get the Data\n",
    "Run the following cell to download the [CIFAR-10 dataset for python](https://www.cs.toronto.edu/~kriz/cifar-10-python.tar.gz)."
   ]
  },
  {
   "cell_type": "code",
   "execution_count": 82,
   "metadata": {
    "collapsed": false,
    "deletable": true,
    "editable": true
   },
   "outputs": [
    {
     "name": "stdout",
     "output_type": "stream",
     "text": [
      "All files found!\n"
     ]
    }
   ],
   "source": [
    "\"\"\"\n",
    "DON'T MODIFY ANYTHING IN THIS CELL THAT IS BELOW THIS LINE\n",
    "\"\"\"\n",
    "from urllib.request import urlretrieve\n",
    "from os.path import isfile, isdir\n",
    "from tqdm import tqdm\n",
    "import problem_unittests as tests\n",
    "import tarfile\n",
    "\n",
    "cifar10_dataset_folder_path = 'cifar-10-batches-py'\n",
    "\n",
    "class DLProgress(tqdm):\n",
    "    last_block = 0\n",
    "\n",
    "    def hook(self, block_num=1, block_size=1, total_size=None):\n",
    "        self.total = total_size\n",
    "        self.update((block_num - self.last_block) * block_size)\n",
    "        self.last_block = block_num\n",
    "\n",
    "if not isfile('cifar-10-python.tar.gz'):\n",
    "    with DLProgress(unit='B', unit_scale=True, miniters=1, desc='CIFAR-10 Dataset') as pbar:\n",
    "        urlretrieve(\n",
    "            'https://www.cs.toronto.edu/~kriz/cifar-10-python.tar.gz',\n",
    "            'cifar-10-python.tar.gz',\n",
    "            pbar.hook)\n",
    "\n",
    "if not isdir(cifar10_dataset_folder_path):\n",
    "    with tarfile.open('cifar-10-python.tar.gz') as tar:\n",
    "        tar.extractall()\n",
    "        tar.close()\n",
    "\n",
    "\n",
    "tests.test_folder_path(cifar10_dataset_folder_path)"
   ]
  },
  {
   "cell_type": "markdown",
   "metadata": {
    "deletable": true,
    "editable": true
   },
   "source": [
    "## Explore the Data\n",
    "The dataset is broken into batches to prevent your machine from running out of memory.  The CIFAR-10 dataset consists of 5 batches, named `data_batch_1`, `data_batch_2`, etc.. Each batch contains the labels and images that are one of the following:\n",
    "* airplane\n",
    "* automobile\n",
    "* bird\n",
    "* cat\n",
    "* deer\n",
    "* dog\n",
    "* frog\n",
    "* horse\n",
    "* ship\n",
    "* truck\n",
    "\n",
    "Understanding a dataset is part of making predictions on the data.  Play around with the code cell below by changing the `batch_id` and `sample_id`. The `batch_id` is the id for a batch (1-5). The `sample_id` is the id for a image and label pair in the batch.\n",
    "\n",
    "Ask yourself \"What are all possible labels?\", \"What is the range of values for the image data?\", \"Are the labels in order or random?\".  Answers to questions like these will help you preprocess the data and end up with better predictions."
   ]
  },
  {
   "cell_type": "code",
   "execution_count": 83,
   "metadata": {
    "collapsed": false,
    "deletable": true,
    "editable": true
   },
   "outputs": [
    {
     "name": "stdout",
     "output_type": "stream",
     "text": [
      "\n",
      "Stats of batch 1:\n",
      "Samples: 10000\n",
      "Label Counts: {0: 1005, 1: 974, 2: 1032, 3: 1016, 4: 999, 5: 937, 6: 1030, 7: 1001, 8: 1025, 9: 981}\n",
      "First 20 Labels: [6, 9, 9, 4, 1, 1, 2, 7, 8, 3, 4, 7, 7, 2, 9, 9, 9, 3, 2, 6]\n",
      "\n",
      "Example of Image 15:\n",
      "Image - Min Value: 5 Max Value: 255\n",
      "Image - Shape: (32, 32, 3)\n",
      "Label - Label Id: 9 Name: truck\n"
     ]
    },
    {
     "data": {
      "image/png": "[encoded data removed]",
      "text/plain": [
       "<matplotlib.figure.Figure at 0x7f26287ba6d8>"
      ]
     },
     "metadata": {
      "image/png": {
       "height": 250,
       "width": 253
      }
     },
     "output_type": "display_data"
    }
   ],
   "source": [
    "%matplotlib inline\n",
    "%config InlineBackend.figure_format = 'retina'\n",
    "\n",
    "import helper\n",
    "import numpy as np\n",
    "\n",
    "# Explore the dataset\n",
    "batch_id = 1\n",
    "sample_id = 15\n",
    "helper.display_stats(cifar10_dataset_folder_path, batch_id, sample_id)"
   ]
  },
  {
   "cell_type": "markdown",
   "metadata": {
    "deletable": true,
    "editable": true
   },
   "source": [
    "## Implement Preprocess Functions\n",
    "### Normalize\n",
    "In the cell below, implement the `normalize` function to take in image data, `x`, and return it as a normalized Numpy array. The values should be in the range of 0 to 1, inclusive.  The return object should be the same shape as `x`."
   ]
  },
  {
   "cell_type": "code",
   "execution_count": 84,
   "metadata": {
    "collapsed": false,
    "deletable": true,
    "editable": true
   },
   "outputs": [
    {
     "name": "stdout",
     "output_type": "stream",
     "text": [
      "Tests Passed\n"
     ]
    }
   ],
   "source": [
    "def normalize(x):\n",
    "    \"\"\"\n",
    "    Normalize a list of sample image data in the range of 0 to 1\n",
    "    : x: List of image data.  The image shape is (32, 32, 3)\n",
    "    : return: Numpy array of normalize data\n",
    "    \"\"\"\n",
    "    # TODO: Implement Function\n",
    "    a, b = 0, 1  \n",
    "    min, max  = np.min(x), np.max(x)\n",
    "    \n",
    "    x_normalized = a + (x - min)*(b - a)/(max-min)\n",
    "    return x_normalized\n",
    "    \n",
    "\n",
    "\n",
    "\"\"\"\n",
    "DON'T MODIFY ANYTHING IN THIS CELL THAT IS BELOW THIS LINE\n",
    "\"\"\"\n",
    "tests.test_normalize(normalize)"
   ]
  },
  {
   "cell_type": "markdown",
   "metadata": {
    "deletable": true,
    "editable": true
   },
   "source": [
    "### One-hot encode\n",
    "Just like the previous code cell, you'll be implementing a function for preprocessing.  This time, you'll implement the `one_hot_encode` function. The input, `x`, are a list of labels.  Implement the function to return the list of labels as One-Hot encoded Numpy array.  The possible values for labels are 0 to 9. The one-hot encoding function should return the same encoding for each value between each call to `one_hot_encode`.  Make sure to save the map of encodings outside the function.\n",
    "\n",
    "Hint: Don't reinvent the wheel."
   ]
  },
  {
   "cell_type": "code",
   "execution_count": 85,
   "metadata": {
    "collapsed": false,
    "deletable": true,
    "editable": true
   },
   "outputs": [
    {
     "name": "stdout",
     "output_type": "stream",
     "text": [
      "Tests Passed\n"
     ]
    }
   ],
   "source": [
    "from sklearn.preprocessing import label_binarize\n",
    "\n",
    "def one_hot_encode(x):\n",
    "    \"\"\"\n",
    "    One hot encode a list of sample labels. Return a one-hot encoded vector for each label.\n",
    "    : x: List of sample Labels\n",
    "    : return: Numpy array of one-hot encoded labels\n",
    "    \"\"\"\n",
    "    # TODO: Implement Function\n",
    "    x_encoded = label_binarize(x, classes=[0, 1, 2, 3, 4, 5, 6, 7, 8, 9])   \n",
    "    return x_encoded\n",
    "\n",
    "\n",
    "\"\"\"\n",
    "DON'T MODIFY ANYTHING IN THIS CELL THAT IS BELOW THIS LINE\n",
    "\"\"\"\n",
    "tests.test_one_hot_encode(one_hot_encode)"
   ]
  },
  {
   "cell_type": "markdown",
   "metadata": {
    "deletable": true,
    "editable": true
   },
   "source": [
    "### Randomize Data\n",
    "As you saw from exploring the data above, the order of the samples are randomized.  It doesn't hurt to randomize it again, but you don't need to for this dataset."
   ]
  },
  {
   "cell_type": "markdown",
   "metadata": {
    "deletable": true,
    "editable": true
   },
   "source": [
    "## Preprocess all the data and save it\n",
    "Running the code cell below will preprocess all the CIFAR-10 data and save it to file. The code below also uses 10% of the training data for validation."
   ]
  },
  {
   "cell_type": "code",
   "execution_count": 86,
   "metadata": {
    "collapsed": false,
    "deletable": true,
    "editable": true
   },
   "outputs": [],
   "source": [
    "\"\"\"\n",
    "DON'T MODIFY ANYTHING IN THIS CELL\n",
    "\"\"\"\n",
    "# Preprocess Training, Validation, and Testing Data\n",
    "helper.preprocess_and_save_data(cifar10_dataset_folder_path, normalize, one_hot_encode)"
   ]
  },
  {
   "cell_type": "markdown",
   "metadata": {
    "deletable": true,
    "editable": true
   },
   "source": [
    "# Check Point\n",
    "This is your first checkpoint.  If you ever decide to come back to this notebook or have to restart the notebook, you can start from here.  The preprocessed data has been saved to disk."
   ]
  },
  {
   "cell_type": "code",
   "execution_count": 87,
   "metadata": {
    "collapsed": true,
    "deletable": true,
    "editable": true
   },
   "outputs": [],
   "source": [
    "\"\"\"\n",
    "DON'T MODIFY ANYTHING IN THIS CELL\n",
    "\"\"\"\n",
    "import pickle\n",
    "import problem_unittests as tests\n",
    "import helper\n",
    "\n",
    "# Load the Preprocessed Validation data\n",
    "valid_features, valid_labels = pickle.load(open('preprocess_validation.p', mode='rb'))"
   ]
  },
  {
   "cell_type": "markdown",
   "metadata": {
    "deletable": true,
    "editable": true
   },
   "source": [
    "## Build the network\n",
    "For the neural network, you'll build each layer into a function.  Most of the code you've seen has been outside of functions. To test your code more thoroughly, we require that you put each layer in a function.  This allows us to give you better feedback and test for simple mistakes using our unittests before you submit your project.\n",
    "\n",
    ">**Note:** If you're finding it hard to dedicate enough time for this course each week, we've provided a small shortcut to this part of the project. In the next couple of problems, you'll have the option to use classes from the [TensorFlow Layers](https://www.tensorflow.org/api_docs/python/tf/layers) or [TensorFlow Layers (contrib)](https://www.tensorflow.org/api_guides/python/contrib.layers) packages to build each layer, except the layers you build in the \"Convolutional and Max Pooling Layer\" section.  TF Layers is similar to Keras's and TFLearn's abstraction to layers, so it's easy to pickup.\n",
    "\n",
    ">However, if you would like to get the most out of this course, try to solve all the problems _without_ using anything from the TF Layers packages. You **can** still use classes from other packages that happen to have the same name as ones you find in TF Layers! For example, instead of using the TF Layers version of the `conv2d` class, [tf.layers.conv2d](https://www.tensorflow.org/api_docs/python/tf/layers/conv2d), you would want to use the TF Neural Network version of `conv2d`, [tf.nn.conv2d](https://www.tensorflow.org/api_docs/python/tf/nn/conv2d). \n",
    "\n",
    "Let's begin!\n",
    "\n",
    "### Input\n",
    "The neural network needs to read the image data, one-hot encoded labels, and dropout keep probability. Implement the following functions\n",
    "* Implement `neural_net_image_input`\n",
    " * Return a [TF Placeholder](https://www.tensorflow.org/api_docs/python/tf/placeholder)\n",
    " * Set the shape using `image_shape` with batch size set to `None`.\n",
    " * Name the TensorFlow placeholder \"x\" using the TensorFlow `name` parameter in the [TF Placeholder](https://www.tensorflow.org/api_docs/python/tf/placeholder).\n",
    "* Implement `neural_net_label_input`\n",
    " * Return a [TF Placeholder](https://www.tensorflow.org/api_docs/python/tf/placeholder)\n",
    " * Set the shape using `n_classes` with batch size set to `None`.\n",
    " * Name the TensorFlow placeholder \"y\" using the TensorFlow `name` parameter in the [TF Placeholder](https://www.tensorflow.org/api_docs/python/tf/placeholder).\n",
    "* Implement `neural_net_keep_prob_input`\n",
    " * Return a [TF Placeholder](https://www.tensorflow.org/api_docs/python/tf/placeholder) for dropout keep probability.\n",
    " * Name the TensorFlow placeholder \"keep_prob\" using the TensorFlow `name` parameter in the [TF Placeholder](https://www.tensorflow.org/api_docs/python/tf/placeholder).\n",
    "\n",
    "These names will be used at the end of the project to load your saved model.\n",
    "\n",
    "Note: `None` for shapes in TensorFlow allow for a dynamic size."
   ]
  },
  {
   "cell_type": "code",
   "execution_count": 88,
   "metadata": {
    "collapsed": false,
    "deletable": true,
    "editable": true
   },
   "outputs": [
    {
     "name": "stdout",
     "output_type": "stream",
     "text": [
      "Image Input Tests Passed.\n",
      "Label Input Tests Passed.\n",
      "Keep Prob Tests Passed.\n"
     ]
    }
   ],
   "source": [
    "import tensorflow as tf\n",
    "\n",
    "def neural_net_image_input(image_shape):\n",
    "    \"\"\"\n",
    "    Return a Tensor for a bach of image input\n",
    "    : image_shape: Shape of the images\n",
    "    : return: Tensor for image input.\n",
    "    \"\"\"\n",
    "    # TODO: Implement Function    \n",
    "    tensor = tf.placeholder(tf.float32, shape = (None, ) + image_shape, name = 'x')\n",
    "    return tensor\n",
    "\n",
    "\n",
    "def neural_net_label_input(n_classes):\n",
    "    \"\"\"\n",
    "    Return a Tensor for a batch of label input\n",
    "    : n_classes: Number of classes\n",
    "    : return: Tensor for label input.\n",
    "    \"\"\"\n",
    "    # TODO: Implement Function    \n",
    "    tensor = tf.placeholder(tf.float32, shape=(None, n_classes), name = 'y')\n",
    "    return tensor\n",
    "\n",
    "\n",
    "def neural_net_keep_prob_input():\n",
    "    \"\"\"\n",
    "    Return a Tensor for keep probability\n",
    "    : return: Tensor for keep probability.\n",
    "    \"\"\"\n",
    "    # TODO: Implement Function\n",
    "    tensor = tf.placeholder(tf.float32, name = 'keep_prob')\n",
    "    return tensor\n",
    "\n",
    "\n",
    "\"\"\"\n",
    "DON'T MODIFY ANYTHING IN THIS CELL THAT IS BELOW THIS LINE\n",
    "\"\"\"\n",
    "tf.reset_default_graph()\n",
    "tests.test_nn_image_inputs(neural_net_image_input)\n",
    "tests.test_nn_label_inputs(neural_net_label_input)\n",
    "tests.test_nn_keep_prob_inputs(neural_net_keep_prob_input)"
   ]
  },
  {
   "cell_type": "markdown",
   "metadata": {
    "deletable": true,
    "editable": true
   },
   "source": [
    "### Convolution and Max Pooling Layer\n",
    "Convolution layers have a lot of success with images. For this code cell, you should implement the function `conv2d_maxpool` to apply convolution then max pooling:\n",
    "* Create the weight and bias using `conv_ksize`, `conv_num_outputs` and the shape of `x_tensor`.\n",
    "* Apply a convolution to `x_tensor` using weight and `conv_strides`.\n",
    " * We recommend you use same padding, but you're welcome to use any padding.\n",
    "* Add bias\n",
    "* Add a nonlinear activation to the convolution.\n",
    "* Apply Max Pooling using `pool_ksize` and `pool_strides`.\n",
    " * We recommend you use same padding, but you're welcome to use any padding.\n",
    "\n",
    "**Note:** You **can't** use [TensorFlow Layers](https://www.tensorflow.org/api_docs/python/tf/layers) or [TensorFlow Layers (contrib)](https://www.tensorflow.org/api_guides/python/contrib.layers) for **this** layer, but you can still use TensorFlow's [Neural Network](https://www.tensorflow.org/api_docs/python/tf/nn) package. You may still use the shortcut option for all the **other** layers."
   ]
  },
  {
   "cell_type": "code",
   "execution_count": 89,
   "metadata": {
    "collapsed": false,
    "deletable": true,
    "editable": true
   },
   "outputs": [
    {
     "name": "stdout",
     "output_type": "stream",
     "text": [
      "Tests Passed\n"
     ]
    }
   ],
   "source": [
    "def conv2d_maxpool(x_tensor, conv_num_outputs, conv_ksize, conv_strides, pool_ksize, pool_strides):\n",
    "    \"\"\"\n",
    "    Apply convolution then max pooling to x_tensor\n",
    "    :param x_tensor: TensorFlow Tensor\n",
    "    :param conv_num_outputs: Number of outputs for the convolutional layer\n",
    "    :param conv_ksize: kernal size 2-D Tuple for the convolutional layer\n",
    "    :param conv_strides: Stride 2-D Tuple for convolution\n",
    "    :param pool_ksize: kernal size 2-D Tuple for pool\n",
    "    :param pool_strides: Stride 2-D Tuple for pool\n",
    "    : return: A tensor that represents convolution and max pooling of x_tensor\n",
    "    \"\"\"\n",
    "    # TODO: Implement Function\n",
    "    padding = 'SAME'\n",
    "    \n",
    "    tensor_shape = x_tensor.get_shape().as_list();\n",
    "    weights_shape = conv_ksize + (tensor_shape[3], ) + (conv_num_outputs, )    \n",
    "    conv_strides = (1,) + conv_strides + (1, )\n",
    "    pool_strides = (1,) + pool_strides + (1, )   \n",
    "    pool_ksize = (1,) + pool_ksize + (1, )\n",
    "\n",
    "    F_W = tf.Variable(tf.truncated_normal(weights_shape, mean=0.0, stddev=0.05))\n",
    "    F_b = tf.Variable(tf.truncated_normal([conv_num_outputs], mean=0.0, stddev=0.05))        \n",
    "   \n",
    "    conv_layer = tf.nn.conv2d(x_tensor, F_W, conv_strides, padding)\n",
    "    conv_layer = tf.nn.bias_add(conv_layer, F_b)\n",
    "    conv_layer = tf.nn.relu(conv_layer)\n",
    "    conv_layer = tf.nn.max_pool(conv_layer, pool_ksize, pool_strides, padding)\n",
    "        \n",
    "    return conv_layer \n",
    "\n",
    "\n",
    "\"\"\"\n",
    "DON'T MODIFY ANYTHING IN THIS CELL THAT IS BELOW THIS LINE\n",
    "\"\"\"\n",
    "tests.test_con_pool(conv2d_maxpool)"
   ]
  },
  {
   "cell_type": "markdown",
   "metadata": {
    "deletable": true,
    "editable": true
   },
   "source": [
    "### Flatten Layer\n",
    "Implement the `flatten` function to change the dimension of `x_tensor` from a 4-D tensor to a 2-D tensor.  The output should be the shape (*Batch Size*, *Flattened Image Size*). Shortcut option: you can use classes from the [TensorFlow Layers](https://www.tensorflow.org/api_docs/python/tf/layers) or [TensorFlow Layers (contrib)](https://www.tensorflow.org/api_guides/python/contrib.layers) packages for this layer. For more of a challenge, only use other TensorFlow packages."
   ]
  },
  {
   "cell_type": "code",
   "execution_count": 395,
   "metadata": {
    "collapsed": false,
    "deletable": true,
    "editable": true
   },
   "outputs": [
    {
     "name": "stdout",
     "output_type": "stream",
     "text": [
      "Tests Passed\n"
     ]
    }
   ],
   "source": [
    "def flatten(x_tensor):\n",
    "    \"\"\"\n",
    "    Flatten x_tensor to (Batch Size, Flattened Image Size)\n",
    "    : x_tensor: A tensor of size (Batch Size, ...), where ... are the image dimensions.\n",
    "    : return: A tensor of size (Batch Size, Flattened Image Size).\n",
    "    \"\"\"\n",
    "    # TODO: Implement Function\n",
    "    tensor_shape = x_tensor.get_shape().as_list();    \n",
    "    new = tf.reshape(x_tensor, [-1, tensor_shape[1] * tensor_shape[2] * tensor_shape[3]]);    \n",
    "    return new\n",
    "\n",
    "\n",
    "\"\"\"\n",
    "DON'T MODIFY ANYTHING IN THIS CELL THAT IS BELOW THIS LINE\n",
    "\"\"\"\n",
    "tests.test_flatten(flatten)"
   ]
  },
  {
   "cell_type": "markdown",
   "metadata": {
    "deletable": true,
    "editable": true
   },
   "source": [
    "### Fully-Connected Layer\n",
    "Implement the `fully_conn` function to apply a fully connected layer to `x_tensor` with the shape (*Batch Size*, *num_outputs*). Shortcut option: you can use classes from the [TensorFlow Layers](https://www.tensorflow.org/api_docs/python/tf/layers) or [TensorFlow Layers (contrib)](https://www.tensorflow.org/api_guides/python/contrib.layers) packages for this layer. For more of a challenge, only use other TensorFlow packages."
   ]
  },
  {
   "cell_type": "code",
   "execution_count": 396,
   "metadata": {
    "collapsed": false,
    "deletable": true,
    "editable": true
   },
   "outputs": [
    {
     "name": "stdout",
     "output_type": "stream",
     "text": [
      "Tests Passed\n"
     ]
    }
   ],
   "source": [
    "def fully_conn(x_tensor, num_outputs):\n",
    "    \"\"\"\n",
    "    Apply a fully connected layer to x_tensor using weight and bias\n",
    "    : x_tensor: A 2-D tensor where the first dimension is batch size.\n",
    "    : num_outputs: The number of output that the new tensor should be.\n",
    "    : return: A 2-D tensor where the second dimension is num_outputs.\n",
    "    \"\"\"\n",
    "    # TODO: Implement Function    \n",
    "    tensor_shape = x_tensor.get_shape().as_list(); \n",
    "    weights = tf.Variable(tf.truncated_normal([tensor_shape[1], num_outputs], mean=0.0, stddev=0.05))\n",
    "    bias = tf.Variable(tf.truncated_normal([num_outputs], mean=0.0, stddev=0.05))\n",
    "    fully_conn = tf.add(tf.matmul(x_tensor, weights), bias)\n",
    "    fully_conn = tf.nn.relu(fully_conn)\n",
    "    return fully_conn\n",
    "\n",
    "\n",
    "\"\"\"\n",
    "DON'T MODIFY ANYTHING IN THIS CELL THAT IS BELOW THIS LINE\n",
    "\"\"\"\n",
    "tests.test_fully_conn(fully_conn)"
   ]
  },
  {
   "cell_type": "markdown",
   "metadata": {
    "deletable": true,
    "editable": true
   },
   "source": [
    "### Output Layer\n",
    "Implement the `output` function to apply a fully connected layer to `x_tensor` with the shape (*Batch Size*, *num_outputs*). Shortcut option: you can use classes from the [TensorFlow Layers](https://www.tensorflow.org/api_docs/python/tf/layers) or [TensorFlow Layers (contrib)](https://www.tensorflow.org/api_guides/python/contrib.layers) packages for this layer. For more of a challenge, only use other TensorFlow packages.\n",
    "\n",
    "**Note:** Activation, softmax, or cross entropy should **not** be applied to this."
   ]
  },
  {
   "cell_type": "code",
   "execution_count": 397,
   "metadata": {
    "collapsed": false,
    "deletable": true,
    "editable": true
   },
   "outputs": [
    {
     "name": "stdout",
     "output_type": "stream",
     "text": [
      "Tests Passed\n"
     ]
    }
   ],
   "source": [
    "def output(x_tensor, num_outputs):\n",
    "    \"\"\"\n",
    "    Apply a output layer to x_tensor using weight and bias\n",
    "    : x_tensor: A 2-D tensor where the first dimension is batch size.\n",
    "    : num_outputs: The number of output that the new tensor should be.\n",
    "    : return: A 2-D tensor where the second dimension is num_outputs.\n",
    "    \"\"\"\n",
    "    # TODO: Implement Function\n",
    "    tensor_shape = x_tensor.get_shape().as_list(); \n",
    "    weights = tf.Variable(tf.truncated_normal([tensor_shape[1], num_outputs], mean=0.0, stddev=0.05))\n",
    "    bias = tf.Variable(tf.truncated_normal([num_outputs], mean=0.0, stddev=0.05))\n",
    "    out = tf.add(tf.matmul(x_tensor, weights), bias)\n",
    "    return out\n",
    "\n",
    "\n",
    "\"\"\"\n",
    "DON'T MODIFY ANYTHING IN THIS CELL THAT IS BELOW THIS LINE\n",
    "\"\"\"\n",
    "tests.test_output(output)"
   ]
  },
  {
   "cell_type": "markdown",
   "metadata": {
    "deletable": true,
    "editable": true
   },
   "source": [
    "### Create Convolutional Model\n",
    "Implement the function `conv_net` to create a convolutional neural network model. The function takes in a batch of images, `x`, and outputs logits.  Use the layers you created above to create this model:\n",
    "\n",
    "* Apply 1, 2, or 3 Convolution and Max Pool layers\n",
    "* Apply a Flatten Layer\n",
    "* Apply 1, 2, or 3 Fully Connected Layers\n",
    "* Apply an Output Layer\n",
    "* Return the output\n",
    "* Apply [TensorFlow's Dropout](https://www.tensorflow.org/api_docs/python/tf/nn/dropout) to one or more layers in the model using `keep_prob`. "
   ]
  },
  {
   "cell_type": "code",
   "execution_count": 398,
   "metadata": {
    "collapsed": false,
    "deletable": true,
    "editable": true
   },
   "outputs": [
    {
     "name": "stdout",
     "output_type": "stream",
     "text": [
      "Neural Network Built!\n"
     ]
    }
   ],
   "source": [
    "def conv_net(x, keep_prob):\n",
    "    \"\"\"\n",
    "    Create a convolutional neural network model\n",
    "    : x: Placeholder tensor that holds image data.\n",
    "    : keep_prob: Placeholder tensor that hold dropout keep probability.\n",
    "    : return: Tensor that represents logits\n",
    "    \"\"\"\n",
    "    # TODO: Apply 1, 2, or 3 Convolution and Max Pool layers\n",
    "    #    Play around with different number of outputs, kernel size and stride\n",
    "    # Function Definition from Above:\n",
    "    conv_layer = conv2d_maxpool(x, 32, (20,20), (5,5), (15,15), (15,15)) \n",
    "    conv_layer = conv2d_maxpool(x, 64, (15,15), (3,3), (10,10), (10,10)) \n",
    "    conv_layer = conv2d_maxpool(x, 128, (10,10), (2,2), (5,5), (5,5))\n",
    "\n",
    "    # TODO: Apply a Flatten Layer\n",
    "    # Function Definition from Above:\n",
    "    fc = flatten(conv_layer)\n",
    "    \n",
    "\n",
    "    # TODO: Apply 1, 2, or 3 Fully Connected Layers\n",
    "    #    Play around with different number of outputs\n",
    "    # Function Definition from Above:\n",
    "    fc = fully_conn(fc, 1500)\n",
    "    fc = tf.nn.dropout(fc, keep_prob)\n",
    "    fc = fully_conn(fc, 700)    \n",
    "    fc = tf.nn.dropout(fc, keep_prob)\n",
    "    \n",
    "    \n",
    "    # TODO: Apply an Output Layer\n",
    "    #    Set this to the number of classes\n",
    "    # Function Definition from Above:\n",
    "    out = output(fc, 10)\n",
    "    \n",
    "    \n",
    "    # TODO: return output\n",
    "    return out\n",
    "\n",
    "\n",
    "\"\"\"\n",
    "DON'T MODIFY ANYTHING IN THIS CELL THAT IS BELOW THIS LINE\n",
    "\"\"\"\n",
    "\n",
    "##############################\n",
    "## Build the Neural Network ##\n",
    "##############################\n",
    "\n",
    "# Remove previous weights, bias, inputs, etc..\n",
    "tf.reset_default_graph()\n",
    "\n",
    "# Inputs\n",
    "x = neural_net_image_input((32, 32, 3))\n",
    "y = neural_net_label_input(10)\n",
    "keep_prob = neural_net_keep_prob_input()\n",
    "\n",
    "# Model\n",
    "logits = conv_net(x, keep_prob)\n",
    "\n",
    "# Name logits Tensor, so that is can be loaded from disk after training\n",
    "logits = tf.identity(logits, name='logits')\n",
    "\n",
    "# Loss and Optimizer\n",
    "cost = tf.reduce_mean(tf.nn.softmax_cross_entropy_with_logits(logits=logits, labels=y))\n",
    "optimizer = tf.train.AdamOptimizer().minimize(cost)\n",
    "\n",
    "# Accuracy\n",
    "correct_pred = tf.equal(tf.argmax(logits, 1), tf.argmax(y, 1))\n",
    "accuracy = tf.reduce_mean(tf.cast(correct_pred, tf.float32), name='accuracy')\n",
    "\n",
    "tests.test_conv_net(conv_net)"
   ]
  },
  {
   "cell_type": "markdown",
   "metadata": {
    "deletable": true,
    "editable": true
   },
   "source": [
    "## Train the Neural Network\n",
    "### Single Optimization\n",
    "Implement the function `train_neural_network` to do a single optimization.  The optimization should use `optimizer` to optimize in `session` with a `feed_dict` of the following:\n",
    "* `x` for image input\n",
    "* `y` for labels\n",
    "* `keep_prob` for keep probability for dropout\n",
    "\n",
    "This function will be called for each batch, so `tf.global_variables_initializer()` has already been called.\n",
    "\n",
    "Note: Nothing needs to be returned. This function is only optimizing the neural network."
   ]
  },
  {
   "cell_type": "code",
   "execution_count": 399,
   "metadata": {
    "collapsed": false,
    "deletable": true,
    "editable": true
   },
   "outputs": [
    {
     "name": "stdout",
     "output_type": "stream",
     "text": [
      "Tests Passed\n"
     ]
    }
   ],
   "source": [
    "def train_neural_network(session, optimizer, keep_probability, feature_batch, label_batch):\n",
    "    \"\"\"\n",
    "    Optimize the session on a batch of images and labels\n",
    "    : session: Current TensorFlow session\n",
    "    : optimizer: TensorFlow optimizer function\n",
    "    : keep_probability: keep probability\n",
    "    : feature_batch: Batch of Numpy image data\n",
    "    : label_batch: Batch of Numpy label data\n",
    "    \"\"\"\n",
    "    # TODO: Implement Function\n",
    "    session.run(optimizer, feed_dict={\n",
    "                x: feature_batch,\n",
    "                y: label_batch,\n",
    "                keep_prob: keep_probability})\n",
    "\n",
    "\n",
    "\"\"\"\n",
    "DON'T MODIFY ANYTHING IN THIS CELL THAT IS BELOW THIS LINE\n",
    "\"\"\"\n",
    "tests.test_train_nn(train_neural_network)"
   ]
  },
  {
   "cell_type": "markdown",
   "metadata": {
    "deletable": true,
    "editable": true
   },
   "source": [
    "### Show Stats\n",
    "Implement the function `print_stats` to print loss and validation accuracy.  Use the global variables `valid_features` and `valid_labels` to calculate validation accuracy.  Use a keep probability of `1.0` to calculate the loss and validation accuracy."
   ]
  },
  {
   "cell_type": "code",
   "execution_count": 400,
   "metadata": {
    "collapsed": false,
    "deletable": true,
    "editable": true
   },
   "outputs": [],
   "source": [
    "def print_stats(session, feature_batch, label_batch, cost, accuracy):\n",
    "    \"\"\"\n",
    "    Print information about loss and validation accuracy\n",
    "    : session: Current TensorFlow session\n",
    "    : feature_batch: Batch of Numpy image data\n",
    "    : label_batch: Batch of Numpy label data\n",
    "    : cost: TensorFlow cost function\n",
    "    : accuracy: TensorFlow accuracy function\n",
    "    \"\"\"\n",
    "    # TODO: Implement Function\n",
    "    #print('Loss: {:>10.4f} Validation Accuracy: {:.6f}'.format(cost, accuracy))\n",
    "    loss = session.run(cost, feed_dict={x: feature_batch,y: label_batch, keep_prob: 1.0})\n",
    "    valid_acc = session.run(accuracy, \n",
    "                         feed_dict={x: valid_features, \n",
    "                                    y: valid_labels, \n",
    "                                    keep_prob: 1.0})\n",
    "    print('Loss: {:>10.4f} Validation Accuracy: {:.6f}'.format(\n",
    "                loss,\n",
    "                valid_acc))\n",
    "    #print (loss, valid_acc)"
   ]
  },
  {
   "cell_type": "markdown",
   "metadata": {
    "deletable": true,
    "editable": true
   },
   "source": [
    "### Hyperparameters\n",
    "Tune the following parameters:\n",
    "* Set `epochs` to the number of iterations until the network stops learning or start overfitting\n",
    "* Set `batch_size` to the highest number that your machine has memory for.  Most people set them to common sizes of memory:\n",
    " * 64\n",
    " * 128\n",
    " * 256\n",
    " * ...\n",
    "* Set `keep_probability` to the probability of keeping a node using dropout"
   ]
  },
  {
   "cell_type": "code",
   "execution_count": 403,
   "metadata": {
    "collapsed": true,
    "deletable": true,
    "editable": true
   },
   "outputs": [],
   "source": [
    "# TODO: Tune Parameters\n",
    "epochs = 50\n",
    "batch_size = 128\n",
    "keep_probability = 0.5"
   ]
  },
  {
   "cell_type": "markdown",
   "metadata": {
    "deletable": true,
    "editable": true
   },
   "source": [
    "### Train on a Single CIFAR-10 Batch\n",
    "Instead of training the neural network on all the CIFAR-10 batches of data, let's use a single batch. This should save time while you iterate on the model to get a better accuracy.  Once the final validation accuracy is 50% or greater, run the model on all the data in the next section."
   ]
  },
  {
   "cell_type": "code",
   "execution_count": 404,
   "metadata": {
    "collapsed": false,
    "deletable": true,
    "editable": true
   },
   "outputs": [
    {
     "name": "stdout",
     "output_type": "stream",
     "text": [
      "Checking the Training on a Single Batch...\n",
      "Epoch  1, CIFAR-10 Batch 1:  Loss:     1.8857 Validation Accuracy: 0.358600\n",
      "Epoch  2, CIFAR-10 Batch 1:  Loss:     1.6298 Validation Accuracy: 0.430800\n",
      "Epoch  3, CIFAR-10 Batch 1:  Loss:     1.5074 Validation Accuracy: 0.477200\n",
      "Epoch  4, CIFAR-10 Batch 1:  Loss:     1.4089 Validation Accuracy: 0.488800\n",
      "Epoch  5, CIFAR-10 Batch 1:  Loss:     1.2299 Validation Accuracy: 0.520200\n",
      "Epoch  6, CIFAR-10 Batch 1:  Loss:     1.1015 Validation Accuracy: 0.513400\n",
      "Epoch  7, CIFAR-10 Batch 1:  Loss:     0.9747 Validation Accuracy: 0.522200\n",
      "Epoch  8, CIFAR-10 Batch 1:  Loss:     0.7776 Validation Accuracy: 0.533400\n",
      "Epoch  9, CIFAR-10 Batch 1:  Loss:     0.7761 Validation Accuracy: 0.528400\n",
      "Epoch 10, CIFAR-10 Batch 1:  Loss:     0.6477 Validation Accuracy: 0.529000\n",
      "Epoch 11, CIFAR-10 Batch 1:  Loss:     0.5850 Validation Accuracy: 0.527200\n",
      "Epoch 12, CIFAR-10 Batch 1:  Loss:     0.5015 Validation Accuracy: 0.540800\n",
      "Epoch 13, CIFAR-10 Batch 1:  Loss:     0.4081 Validation Accuracy: 0.532800\n",
      "Epoch 14, CIFAR-10 Batch 1:  Loss:     0.3290 Validation Accuracy: 0.553000\n",
      "Epoch 15, CIFAR-10 Batch 1:  Loss:     0.2786 Validation Accuracy: 0.520400\n",
      "Epoch 16, CIFAR-10 Batch 1:  Loss:     0.2558 Validation Accuracy: 0.538200\n",
      "Epoch 17, CIFAR-10 Batch 1:  Loss:     0.1743 Validation Accuracy: 0.553000\n",
      "Epoch 18, CIFAR-10 Batch 1:  Loss:     0.1495 Validation Accuracy: 0.554400\n",
      "Epoch 19, CIFAR-10 Batch 1:  Loss:     0.1420 Validation Accuracy: 0.546400\n",
      "Epoch 20, CIFAR-10 Batch 1:  Loss:     0.1448 Validation Accuracy: 0.558800\n",
      "Epoch 21, CIFAR-10 Batch 1:  Loss:     0.1191 Validation Accuracy: 0.546400\n",
      "Epoch 22, CIFAR-10 Batch 1:  Loss:     0.0654 Validation Accuracy: 0.551400\n",
      "Epoch 23, CIFAR-10 Batch 1:  Loss:     0.0626 Validation Accuracy: 0.549200\n",
      "Epoch 24, CIFAR-10 Batch 1:  Loss:     0.0792 Validation Accuracy: 0.553200\n",
      "Epoch 25, CIFAR-10 Batch 1:  Loss:     0.0487 Validation Accuracy: 0.536000\n",
      "Epoch 26, CIFAR-10 Batch 1:  Loss:     0.0428 Validation Accuracy: 0.546800\n",
      "Epoch 27, CIFAR-10 Batch 1:  Loss:     0.0336 Validation Accuracy: 0.551800\n",
      "Epoch 28, CIFAR-10 Batch 1:  Loss:     0.0267 Validation Accuracy: 0.556600\n",
      "Epoch 29, CIFAR-10 Batch 1:  Loss:     0.0200 Validation Accuracy: 0.548800\n",
      "Epoch 30, CIFAR-10 Batch 1:  Loss:     0.0169 Validation Accuracy: 0.559400\n",
      "Epoch 31, CIFAR-10 Batch 1:  Loss:     0.0194 Validation Accuracy: 0.554200\n",
      "Epoch 32, CIFAR-10 Batch 1:  Loss:     0.0175 Validation Accuracy: 0.556000\n",
      "Epoch 33, CIFAR-10 Batch 1:  Loss:     0.0147 Validation Accuracy: 0.550200\n",
      "Epoch 34, CIFAR-10 Batch 1:  Loss:     0.0192 Validation Accuracy: 0.547800\n",
      "Epoch 35, CIFAR-10 Batch 1:  Loss:     0.0170 Validation Accuracy: 0.554000\n",
      "Epoch 36, CIFAR-10 Batch 1:  Loss:     0.0205 Validation Accuracy: 0.553800\n",
      "Epoch 37, CIFAR-10 Batch 1:  Loss:     0.0084 Validation Accuracy: 0.556400\n",
      "Epoch 38, CIFAR-10 Batch 1:  Loss:     0.0105 Validation Accuracy: 0.560800\n",
      "Epoch 39, CIFAR-10 Batch 1:  Loss:     0.0063 Validation Accuracy: 0.553400\n",
      "Epoch 40, CIFAR-10 Batch 1:  Loss:     0.0056 Validation Accuracy: 0.557600\n",
      "Epoch 41, CIFAR-10 Batch 1:  Loss:     0.0042 Validation Accuracy: 0.553600\n",
      "Epoch 42, CIFAR-10 Batch 1:  Loss:     0.0047 Validation Accuracy: 0.545800\n",
      "Epoch 43, CIFAR-10 Batch 1:  Loss:     0.0016 Validation Accuracy: 0.552600\n",
      "Epoch 44, CIFAR-10 Batch 1:  Loss:     0.0018 Validation Accuracy: 0.550800\n",
      "Epoch 45, CIFAR-10 Batch 1:  Loss:     0.0032 Validation Accuracy: 0.552800\n",
      "Epoch 46, CIFAR-10 Batch 1:  Loss:     0.0012 Validation Accuracy: 0.543800\n",
      "Epoch 47, CIFAR-10 Batch 1:  Loss:     0.0008 Validation Accuracy: 0.557200\n",
      "Epoch 48, CIFAR-10 Batch 1:  Loss:     0.0025 Validation Accuracy: 0.549600\n",
      "Epoch 49, CIFAR-10 Batch 1:  Loss:     0.0014 Validation Accuracy: 0.552000\n",
      "Epoch 50, CIFAR-10 Batch 1:  Loss:     0.0030 Validation Accuracy: 0.545200\n"
     ]
    }
   ],
   "source": [
    "\"\"\"\n",
    "DON'T MODIFY ANYTHING IN THIS CELL\n",
    "\"\"\"\n",
    "print('Checking the Training on a Single Batch...')\n",
    "with tf.Session() as sess:\n",
    "    # Initializing the variables\n",
    "    sess.run(tf.global_variables_initializer())\n",
    "    \n",
    "    # Training cycle\n",
    "    for epoch in range(epochs):\n",
    "        batch_i = 1\n",
    "        for batch_features, batch_labels in helper.load_preprocess_training_batch(batch_i, batch_size):\n",
    "            train_neural_network(sess, optimizer, keep_probability, batch_features, batch_labels)\n",
    "        print('Epoch {:>2}, CIFAR-10 Batch {}:  '.format(epoch + 1, batch_i), end='')\n",
    "        print_stats(sess, batch_features, batch_labels, cost, accuracy)"
   ]
  },
  {
   "cell_type": "markdown",
   "metadata": {
    "deletable": true,
    "editable": true
   },
   "source": [
    "### Fully Train the Model\n",
    "Now that you got a good accuracy with a single CIFAR-10 batch, try it with all five batches."
   ]
  },
  {
   "cell_type": "code",
   "execution_count": 393,
   "metadata": {
    "collapsed": false,
    "deletable": true,
    "editable": true
   },
   "outputs": [
    {
     "name": "stdout",
     "output_type": "stream",
     "text": [
      "Training...\n",
      "Epoch  1, CIFAR-10 Batch 1:  Loss:     1.9144 Validation Accuracy: 0.377000\n",
      "Epoch  1, CIFAR-10 Batch 2:  Loss:     1.5189 Validation Accuracy: 0.426600\n",
      "Epoch  1, CIFAR-10 Batch 3:  Loss:     1.5173 Validation Accuracy: 0.447000\n",
      "Epoch  1, CIFAR-10 Batch 4:  Loss:     1.3257 Validation Accuracy: 0.488400\n",
      "Epoch  1, CIFAR-10 Batch 5:  Loss:     1.4779 Validation Accuracy: 0.505600\n",
      "Epoch  2, CIFAR-10 Batch 1:  Loss:     1.5255 Validation Accuracy: 0.513400\n",
      "Epoch  2, CIFAR-10 Batch 2:  Loss:     1.1105 Validation Accuracy: 0.514600\n",
      "Epoch  2, CIFAR-10 Batch 3:  Loss:     1.1850 Validation Accuracy: 0.537200\n",
      "Epoch  2, CIFAR-10 Batch 4:  Loss:     1.0324 Validation Accuracy: 0.543800\n",
      "Epoch  2, CIFAR-10 Batch 5:  Loss:     1.1315 Validation Accuracy: 0.564200\n",
      "Epoch  3, CIFAR-10 Batch 1:  Loss:     1.2527 Validation Accuracy: 0.548200\n",
      "Epoch  3, CIFAR-10 Batch 2:  Loss:     1.0837 Validation Accuracy: 0.550400\n",
      "Epoch  3, CIFAR-10 Batch 3:  Loss:     0.9444 Validation Accuracy: 0.561800\n",
      "Epoch  3, CIFAR-10 Batch 4:  Loss:     0.9356 Validation Accuracy: 0.562800\n",
      "Epoch  3, CIFAR-10 Batch 5:  Loss:     0.9195 Validation Accuracy: 0.587400\n",
      "Epoch  4, CIFAR-10 Batch 1:  Loss:     1.0978 Validation Accuracy: 0.594800\n",
      "Epoch  4, CIFAR-10 Batch 2:  Loss:     0.8857 Validation Accuracy: 0.582600\n",
      "Epoch  4, CIFAR-10 Batch 3:  Loss:     0.8069 Validation Accuracy: 0.592600\n",
      "Epoch  4, CIFAR-10 Batch 4:  Loss:     0.8445 Validation Accuracy: 0.596000\n",
      "Epoch  4, CIFAR-10 Batch 5:  Loss:     0.8105 Validation Accuracy: 0.606800\n",
      "Epoch  5, CIFAR-10 Batch 1:  Loss:     0.9112 Validation Accuracy: 0.605000\n",
      "Epoch  5, CIFAR-10 Batch 2:  Loss:     0.7369 Validation Accuracy: 0.608800\n",
      "Epoch  5, CIFAR-10 Batch 3:  Loss:     0.6416 Validation Accuracy: 0.612400\n",
      "Epoch  5, CIFAR-10 Batch 4:  Loss:     0.7458 Validation Accuracy: 0.619800\n",
      "Epoch  5, CIFAR-10 Batch 5:  Loss:     0.7275 Validation Accuracy: 0.619200\n",
      "Epoch  6, CIFAR-10 Batch 1:  Loss:     0.8563 Validation Accuracy: 0.609800\n",
      "Epoch  6, CIFAR-10 Batch 2:  Loss:     0.6435 Validation Accuracy: 0.615400\n",
      "Epoch  6, CIFAR-10 Batch 3:  Loss:     0.6105 Validation Accuracy: 0.617200\n",
      "Epoch  6, CIFAR-10 Batch 4:  Loss:     0.7089 Validation Accuracy: 0.627400\n",
      "Epoch  6, CIFAR-10 Batch 5:  Loss:     0.6134 Validation Accuracy: 0.631000\n",
      "Epoch  7, CIFAR-10 Batch 1:  Loss:     0.7777 Validation Accuracy: 0.625200\n",
      "Epoch  7, CIFAR-10 Batch 2:  Loss:     0.5777 Validation Accuracy: 0.613200\n",
      "Epoch  7, CIFAR-10 Batch 3:  Loss:     0.4884 Validation Accuracy: 0.625200\n",
      "Epoch  7, CIFAR-10 Batch 4:  Loss:     0.6292 Validation Accuracy: 0.620600\n",
      "Epoch  7, CIFAR-10 Batch 5:  Loss:     0.5766 Validation Accuracy: 0.627400\n",
      "Epoch  8, CIFAR-10 Batch 1:  Loss:     0.6671 Validation Accuracy: 0.620400\n",
      "Epoch  8, CIFAR-10 Batch 2:  Loss:     0.5213 Validation Accuracy: 0.630400\n",
      "Epoch  8, CIFAR-10 Batch 3:  Loss:     0.3950 Validation Accuracy: 0.621200\n",
      "Epoch  8, CIFAR-10 Batch 4:  Loss:     0.6292 Validation Accuracy: 0.646000\n",
      "Epoch  8, CIFAR-10 Batch 5:  Loss:     0.5009 Validation Accuracy: 0.639000\n",
      "Epoch  9, CIFAR-10 Batch 1:  Loss:     0.6073 Validation Accuracy: 0.636800\n",
      "Epoch  9, CIFAR-10 Batch 2:  Loss:     0.4469 Validation Accuracy: 0.624000\n",
      "Epoch  9, CIFAR-10 Batch 3:  Loss:     0.3363 Validation Accuracy: 0.626000\n",
      "Epoch  9, CIFAR-10 Batch 4:  Loss:     0.5446 Validation Accuracy: 0.646600\n",
      "Epoch  9, CIFAR-10 Batch 5:  Loss:     0.4898 Validation Accuracy: 0.642200\n",
      "Epoch 10, CIFAR-10 Batch 1:  Loss:     0.5818 Validation Accuracy: 0.631000\n",
      "Epoch 10, CIFAR-10 Batch 2:  Loss:     0.3671 Validation Accuracy: 0.638000\n",
      "Epoch 10, CIFAR-10 Batch 3:  Loss:     0.3150 Validation Accuracy: 0.628200\n",
      "Epoch 10, CIFAR-10 Batch 4:  Loss:     0.4320 Validation Accuracy: 0.647000\n",
      "Epoch 10, CIFAR-10 Batch 5:  Loss:     0.4589 Validation Accuracy: 0.649600\n",
      "Epoch 11, CIFAR-10 Batch 1:  Loss:     0.5175 Validation Accuracy: 0.646200\n",
      "Epoch 11, CIFAR-10 Batch 2:  Loss:     0.3554 Validation Accuracy: 0.650200\n",
      "Epoch 11, CIFAR-10 Batch 3:  Loss:     0.2321 Validation Accuracy: 0.619200\n",
      "Epoch 11, CIFAR-10 Batch 4:  Loss:     0.3740 Validation Accuracy: 0.659600\n",
      "Epoch 11, CIFAR-10 Batch 5:  Loss:     0.3815 Validation Accuracy: 0.659800\n",
      "Epoch 12, CIFAR-10 Batch 1:  Loss:     0.4890 Validation Accuracy: 0.649400\n",
      "Epoch 12, CIFAR-10 Batch 2:  Loss:     0.2933 Validation Accuracy: 0.654800\n",
      "Epoch 12, CIFAR-10 Batch 3:  Loss:     0.1943 Validation Accuracy: 0.653600\n",
      "Epoch 12, CIFAR-10 Batch 4:  Loss:     0.3453 Validation Accuracy: 0.655200\n",
      "Epoch 12, CIFAR-10 Batch 5:  Loss:     0.3195 Validation Accuracy: 0.661200\n",
      "Epoch 13, CIFAR-10 Batch 1:  Loss:     0.3850 Validation Accuracy: 0.654600\n",
      "Epoch 13, CIFAR-10 Batch 2:  Loss:     0.2823 Validation Accuracy: 0.657400\n",
      "Epoch 13, CIFAR-10 Batch 3:  Loss:     0.1591 Validation Accuracy: 0.660000\n",
      "Epoch 13, CIFAR-10 Batch 4:  Loss:     0.3291 Validation Accuracy: 0.649400\n",
      "Epoch 13, CIFAR-10 Batch 5:  Loss:     0.2781 Validation Accuracy: 0.657400\n",
      "Epoch 14, CIFAR-10 Batch 1:  Loss:     0.3313 Validation Accuracy: 0.652600\n",
      "Epoch 14, CIFAR-10 Batch 2:  Loss:     0.2685 Validation Accuracy: 0.664600\n",
      "Epoch 14, CIFAR-10 Batch 3:  Loss:     0.1488 Validation Accuracy: 0.659000\n",
      "Epoch 14, CIFAR-10 Batch 4:  Loss:     0.3375 Validation Accuracy: 0.644400\n",
      "Epoch 14, CIFAR-10 Batch 5:  Loss:     0.2292 Validation Accuracy: 0.659400\n",
      "Epoch 15, CIFAR-10 Batch 1:  Loss:     0.2958 Validation Accuracy: 0.656000\n",
      "Epoch 15, CIFAR-10 Batch 2:  Loss:     0.1838 Validation Accuracy: 0.654200\n",
      "Epoch 15, CIFAR-10 Batch 3:  Loss:     0.1285 Validation Accuracy: 0.661800\n",
      "Epoch 15, CIFAR-10 Batch 4:  Loss:     0.2074 Validation Accuracy: 0.660200\n",
      "Epoch 15, CIFAR-10 Batch 5:  Loss:     0.2193 Validation Accuracy: 0.665000\n",
      "Epoch 16, CIFAR-10 Batch 1:  Loss:     0.2462 Validation Accuracy: 0.654000\n",
      "Epoch 16, CIFAR-10 Batch 2:  Loss:     0.2022 Validation Accuracy: 0.665000\n",
      "Epoch 16, CIFAR-10 Batch 3:  Loss:     0.1387 Validation Accuracy: 0.651200\n",
      "Epoch 16, CIFAR-10 Batch 4:  Loss:     0.2417 Validation Accuracy: 0.654200\n",
      "Epoch 16, CIFAR-10 Batch 5:  Loss:     0.2019 Validation Accuracy: 0.658800\n",
      "Epoch 17, CIFAR-10 Batch 1:  Loss:     0.1897 Validation Accuracy: 0.655400\n",
      "Epoch 17, CIFAR-10 Batch 2:  Loss:     0.1670 Validation Accuracy: 0.644800\n",
      "Epoch 17, CIFAR-10 Batch 3:  Loss:     0.1267 Validation Accuracy: 0.668400\n",
      "Epoch 17, CIFAR-10 Batch 4:  Loss:     0.2144 Validation Accuracy: 0.650000\n",
      "Epoch 17, CIFAR-10 Batch 5:  Loss:     0.1806 Validation Accuracy: 0.657200\n",
      "Epoch 18, CIFAR-10 Batch 1:  Loss:     0.2216 Validation Accuracy: 0.658200\n",
      "Epoch 18, CIFAR-10 Batch 2:  Loss:     0.1853 Validation Accuracy: 0.656400\n",
      "Epoch 18, CIFAR-10 Batch 3:  Loss:     0.1007 Validation Accuracy: 0.667600\n",
      "Epoch 18, CIFAR-10 Batch 4:  Loss:     0.1711 Validation Accuracy: 0.653600\n",
      "Epoch 18, CIFAR-10 Batch 5:  Loss:     0.1755 Validation Accuracy: 0.647400\n",
      "Epoch 19, CIFAR-10 Batch 1:  Loss:     0.2046 Validation Accuracy: 0.661200\n",
      "Epoch 19, CIFAR-10 Batch 2:  Loss:     0.1328 Validation Accuracy: 0.660400\n",
      "Epoch 19, CIFAR-10 Batch 3:  Loss:     0.0533 Validation Accuracy: 0.668200\n",
      "Epoch 19, CIFAR-10 Batch 4:  Loss:     0.1613 Validation Accuracy: 0.657600\n",
      "Epoch 19, CIFAR-10 Batch 5:  Loss:     0.1355 Validation Accuracy: 0.659000\n",
      "Epoch 20, CIFAR-10 Batch 1:  Loss:     0.1879 Validation Accuracy: 0.657600\n",
      "Epoch 20, CIFAR-10 Batch 2:  Loss:     0.1649 Validation Accuracy: 0.656800\n",
      "Epoch 20, CIFAR-10 Batch 3:  Loss:     0.0661 Validation Accuracy: 0.656400\n",
      "Epoch 20, CIFAR-10 Batch 4:  Loss:     0.1080 Validation Accuracy: 0.665400\n",
      "Epoch 20, CIFAR-10 Batch 5:  Loss:     0.1731 Validation Accuracy: 0.649400\n",
      "Epoch 21, CIFAR-10 Batch 1:  Loss:     0.1179 Validation Accuracy: 0.665600\n",
      "Epoch 21, CIFAR-10 Batch 2:  Loss:     0.1105 Validation Accuracy: 0.662400\n",
      "Epoch 21, CIFAR-10 Batch 3:  Loss:     0.0598 Validation Accuracy: 0.658200\n",
      "Epoch 21, CIFAR-10 Batch 4:  Loss:     0.1038 Validation Accuracy: 0.659600\n",
      "Epoch 21, CIFAR-10 Batch 5:  Loss:     0.1294 Validation Accuracy: 0.660000\n",
      "Epoch 22, CIFAR-10 Batch 1:  Loss:     0.1641 Validation Accuracy: 0.660600\n",
      "Epoch 22, CIFAR-10 Batch 2:  Loss:     0.0889 Validation Accuracy: 0.664400\n",
      "Epoch 22, CIFAR-10 Batch 3:  Loss:     0.0723 Validation Accuracy: 0.642200\n",
      "Epoch 22, CIFAR-10 Batch 4:  Loss:     0.1355 Validation Accuracy: 0.654400\n",
      "Epoch 22, CIFAR-10 Batch 5:  Loss:     0.1022 Validation Accuracy: 0.667800\n",
      "Epoch 23, CIFAR-10 Batch 1:  Loss:     0.1451 Validation Accuracy: 0.653600\n",
      "Epoch 23, CIFAR-10 Batch 2:  Loss:     0.0954 Validation Accuracy: 0.655200\n",
      "Epoch 23, CIFAR-10 Batch 3:  Loss:     0.0347 Validation Accuracy: 0.671400\n",
      "Epoch 23, CIFAR-10 Batch 4:  Loss:     0.1364 Validation Accuracy: 0.651000\n",
      "Epoch 23, CIFAR-10 Batch 5:  Loss:     0.1014 Validation Accuracy: 0.668400\n",
      "Epoch 24, CIFAR-10 Batch 1:  Loss:     0.1097 Validation Accuracy: 0.666200\n",
      "Epoch 24, CIFAR-10 Batch 2:  Loss:     0.0899 Validation Accuracy: 0.660600\n",
      "Epoch 24, CIFAR-10 Batch 3:  Loss:     0.0461 Validation Accuracy: 0.658600\n",
      "Epoch 24, CIFAR-10 Batch 4:  Loss:     0.0707 Validation Accuracy: 0.660000\n",
      "Epoch 24, CIFAR-10 Batch 5:  Loss:     0.1002 Validation Accuracy: 0.664200\n",
      "Epoch 25, CIFAR-10 Batch 1:  Loss:     0.0894 Validation Accuracy: 0.665800\n",
      "Epoch 25, CIFAR-10 Batch 2:  Loss:     0.0708 Validation Accuracy: 0.666400\n",
      "Epoch 25, CIFAR-10 Batch 3:  Loss:     0.0253 Validation Accuracy: 0.664200\n",
      "Epoch 25, CIFAR-10 Batch 4:  Loss:     0.0872 Validation Accuracy: 0.662400\n",
      "Epoch 25, CIFAR-10 Batch 5:  Loss:     0.0909 Validation Accuracy: 0.673600\n",
      "Epoch 26, CIFAR-10 Batch 1:  Loss:     0.0699 Validation Accuracy: 0.655400\n",
      "Epoch 26, CIFAR-10 Batch 2:  Loss:     0.0675 Validation Accuracy: 0.659200\n",
      "Epoch 26, CIFAR-10 Batch 3:  Loss:     0.0272 Validation Accuracy: 0.660200\n",
      "Epoch 26, CIFAR-10 Batch 4:  Loss:     0.0696 Validation Accuracy: 0.653800\n",
      "Epoch 26, CIFAR-10 Batch 5:  Loss:     0.1244 Validation Accuracy: 0.652400\n",
      "Epoch 27, CIFAR-10 Batch 1:  Loss:     0.0885 Validation Accuracy: 0.663000\n",
      "Epoch 27, CIFAR-10 Batch 2:  Loss:     0.0417 Validation Accuracy: 0.657400\n",
      "Epoch 27, CIFAR-10 Batch 3:  Loss:     0.0295 Validation Accuracy: 0.663000\n",
      "Epoch 27, CIFAR-10 Batch 4:  Loss:     0.0675 Validation Accuracy: 0.654400\n",
      "Epoch 27, CIFAR-10 Batch 5:  Loss:     0.0872 Validation Accuracy: 0.667000\n",
      "Epoch 28, CIFAR-10 Batch 1:  Loss:     0.0667 Validation Accuracy: 0.661800\n",
      "Epoch 28, CIFAR-10 Batch 2:  Loss:     0.0452 Validation Accuracy: 0.662200\n",
      "Epoch 28, CIFAR-10 Batch 3:  Loss:     0.0318 Validation Accuracy: 0.660600\n",
      "Epoch 28, CIFAR-10 Batch 4:  Loss:     0.0464 Validation Accuracy: 0.664200\n",
      "Epoch 28, CIFAR-10 Batch 5:  Loss:     0.0493 Validation Accuracy: 0.663000\n",
      "Epoch 29, CIFAR-10 Batch 1:  Loss:     0.0882 Validation Accuracy: 0.664000\n",
      "Epoch 29, CIFAR-10 Batch 2:  Loss:     0.0609 Validation Accuracy: 0.660400\n",
      "Epoch 29, CIFAR-10 Batch 3:  Loss:     0.0240 Validation Accuracy: 0.658000\n",
      "Epoch 29, CIFAR-10 Batch 4:  Loss:     0.0644 Validation Accuracy: 0.654800\n",
      "Epoch 29, CIFAR-10 Batch 5:  Loss:     0.0758 Validation Accuracy: 0.669400\n",
      "Epoch 30, CIFAR-10 Batch 1:  Loss:     0.0712 Validation Accuracy: 0.656600\n",
      "Epoch 30, CIFAR-10 Batch 2:  Loss:     0.0337 Validation Accuracy: 0.660200\n",
      "Epoch 30, CIFAR-10 Batch 3:  Loss:     0.0161 Validation Accuracy: 0.667000\n",
      "Epoch 30, CIFAR-10 Batch 4:  Loss:     0.0255 Validation Accuracy: 0.671400\n",
      "Epoch 30, CIFAR-10 Batch 5:  Loss:     0.0589 Validation Accuracy: 0.658400\n",
      "Epoch 31, CIFAR-10 Batch 1:  Loss:     0.0440 Validation Accuracy: 0.660800\n",
      "Epoch 31, CIFAR-10 Batch 2:  Loss:     0.0805 Validation Accuracy: 0.659200\n",
      "Epoch 31, CIFAR-10 Batch 3:  Loss:     0.0211 Validation Accuracy: 0.664200\n",
      "Epoch 31, CIFAR-10 Batch 4:  Loss:     0.0514 Validation Accuracy: 0.671800\n",
      "Epoch 31, CIFAR-10 Batch 5:  Loss:     0.0378 Validation Accuracy: 0.661600\n",
      "Epoch 32, CIFAR-10 Batch 1:  Loss:     0.0319 Validation Accuracy: 0.659200\n",
      "Epoch 32, CIFAR-10 Batch 2:  Loss:     0.0166 Validation Accuracy: 0.663000\n",
      "Epoch 32, CIFAR-10 Batch 3:  Loss:     0.0127 Validation Accuracy: 0.655400\n",
      "Epoch 32, CIFAR-10 Batch 4:  Loss:     0.0453 Validation Accuracy: 0.660200\n",
      "Epoch 32, CIFAR-10 Batch 5:  Loss:     0.0612 Validation Accuracy: 0.666600\n",
      "Epoch 33, CIFAR-10 Batch 1:  Loss:     0.0469 Validation Accuracy: 0.660000\n",
      "Epoch 33, CIFAR-10 Batch 2:  Loss:     0.0226 Validation Accuracy: 0.664200\n",
      "Epoch 33, CIFAR-10 Batch 3:  Loss:     0.0188 Validation Accuracy: 0.660800\n",
      "Epoch 33, CIFAR-10 Batch 4:  Loss:     0.0486 Validation Accuracy: 0.660600\n",
      "Epoch 33, CIFAR-10 Batch 5:  Loss:     0.0611 Validation Accuracy: 0.669200\n",
      "Epoch 34, CIFAR-10 Batch 1:  Loss:     0.0346 Validation Accuracy: 0.658800\n",
      "Epoch 34, CIFAR-10 Batch 2:  Loss:     0.0332 Validation Accuracy: 0.658600\n",
      "Epoch 34, CIFAR-10 Batch 3:  Loss:     0.0125 Validation Accuracy: 0.662000\n",
      "Epoch 34, CIFAR-10 Batch 4:  Loss:     0.0506 Validation Accuracy: 0.660400\n",
      "Epoch 34, CIFAR-10 Batch 5:  Loss:     0.0598 Validation Accuracy: 0.675800\n",
      "Epoch 35, CIFAR-10 Batch 1:  Loss:     0.0523 Validation Accuracy: 0.662000\n",
      "Epoch 35, CIFAR-10 Batch 2:  Loss:     0.0251 Validation Accuracy: 0.655000\n",
      "Epoch 35, CIFAR-10 Batch 3:  Loss:     0.0169 Validation Accuracy: 0.666400\n",
      "Epoch 35, CIFAR-10 Batch 4:  Loss:     0.0432 Validation Accuracy: 0.659600\n",
      "Epoch 35, CIFAR-10 Batch 5:  Loss:     0.0363 Validation Accuracy: 0.674000\n",
      "Epoch 36, CIFAR-10 Batch 1:  Loss:     0.0344 Validation Accuracy: 0.669200\n",
      "Epoch 36, CIFAR-10 Batch 2:  Loss:     0.0269 Validation Accuracy: 0.661200\n",
      "Epoch 36, CIFAR-10 Batch 3:  Loss:     0.0190 Validation Accuracy: 0.667000\n",
      "Epoch 36, CIFAR-10 Batch 4:  Loss:     0.0342 Validation Accuracy: 0.660600\n",
      "Epoch 36, CIFAR-10 Batch 5:  Loss:     0.0280 Validation Accuracy: 0.671200\n",
      "Epoch 37, CIFAR-10 Batch 1:  Loss:     0.0649 Validation Accuracy: 0.654200\n",
      "Epoch 37, CIFAR-10 Batch 2:  Loss:     0.0481 Validation Accuracy: 0.657600\n",
      "Epoch 37, CIFAR-10 Batch 3:  Loss:     0.0164 Validation Accuracy: 0.665600\n",
      "Epoch 37, CIFAR-10 Batch 4:  Loss:     0.0333 Validation Accuracy: 0.659800\n",
      "Epoch 37, CIFAR-10 Batch 5:  Loss:     0.0347 Validation Accuracy: 0.676600\n",
      "Epoch 38, CIFAR-10 Batch 1:  Loss:     0.0178 Validation Accuracy: 0.668200\n",
      "Epoch 38, CIFAR-10 Batch 2:  Loss:     0.0323 Validation Accuracy: 0.666800\n",
      "Epoch 38, CIFAR-10 Batch 3:  Loss:     0.0123 Validation Accuracy: 0.668600\n",
      "Epoch 38, CIFAR-10 Batch 4:  Loss:     0.0348 Validation Accuracy: 0.664200\n",
      "Epoch 38, CIFAR-10 Batch 5:  Loss:     0.0129 Validation Accuracy: 0.684000\n",
      "Epoch 39, CIFAR-10 Batch 1:  Loss:     0.0208 Validation Accuracy: 0.666800\n",
      "Epoch 39, CIFAR-10 Batch 2:  Loss:     0.0319 Validation Accuracy: 0.671000\n",
      "Epoch 39, CIFAR-10 Batch 3:  Loss:     0.0079 Validation Accuracy: 0.673200\n",
      "Epoch 39, CIFAR-10 Batch 4:  Loss:     0.0303 Validation Accuracy: 0.661000\n",
      "Epoch 39, CIFAR-10 Batch 5:  Loss:     0.0395 Validation Accuracy: 0.674200\n",
      "Epoch 40, CIFAR-10 Batch 1:  Loss:     0.0542 Validation Accuracy: 0.667200\n",
      "Epoch 40, CIFAR-10 Batch 2:  Loss:     0.0234 Validation Accuracy: 0.670000\n",
      "Epoch 40, CIFAR-10 Batch 3:  Loss:     0.0067 Validation Accuracy: 0.665200\n",
      "Epoch 40, CIFAR-10 Batch 4:  Loss:     0.0357 Validation Accuracy: 0.669000\n",
      "Epoch 40, CIFAR-10 Batch 5:  Loss:     0.0247 Validation Accuracy: 0.676800\n",
      "Epoch 41, CIFAR-10 Batch 1:  Loss:     0.0262 Validation Accuracy: 0.669400\n",
      "Epoch 41, CIFAR-10 Batch 2:  Loss:     0.0355 Validation Accuracy: 0.671800\n",
      "Epoch 41, CIFAR-10 Batch 3:  Loss:     0.0036 Validation Accuracy: 0.673000\n",
      "Epoch 41, CIFAR-10 Batch 4:  Loss:     0.0237 Validation Accuracy: 0.671000\n",
      "Epoch 41, CIFAR-10 Batch 5:  Loss:     0.0191 Validation Accuracy: 0.685800\n",
      "Epoch 42, CIFAR-10 Batch 1:  Loss:     0.0236 Validation Accuracy: 0.653200\n",
      "Epoch 42, CIFAR-10 Batch 2:  Loss:     0.0150 Validation Accuracy: 0.661200\n",
      "Epoch 42, CIFAR-10 Batch 3:  Loss:     0.0120 Validation Accuracy: 0.658800\n",
      "Epoch 42, CIFAR-10 Batch 4:  Loss:     0.0497 Validation Accuracy: 0.659000\n",
      "Epoch 42, CIFAR-10 Batch 5:  Loss:     0.0242 Validation Accuracy: 0.675000\n",
      "Epoch 43, CIFAR-10 Batch 1:  Loss:     0.0261 Validation Accuracy: 0.672600\n",
      "Epoch 43, CIFAR-10 Batch 2:  Loss:     0.0266 Validation Accuracy: 0.664000\n",
      "Epoch 43, CIFAR-10 Batch 3:  Loss:     0.0141 Validation Accuracy: 0.654400\n",
      "Epoch 43, CIFAR-10 Batch 4:  Loss:     0.0411 Validation Accuracy: 0.667400\n",
      "Epoch 43, CIFAR-10 Batch 5:  Loss:     0.0127 Validation Accuracy: 0.675000\n",
      "Epoch 44, CIFAR-10 Batch 1:  Loss:     0.0294 Validation Accuracy: 0.671400\n",
      "Epoch 44, CIFAR-10 Batch 2:  Loss:     0.0291 Validation Accuracy: 0.668400\n",
      "Epoch 44, CIFAR-10 Batch 3:  Loss:     0.0152 Validation Accuracy: 0.667000\n",
      "Epoch 44, CIFAR-10 Batch 4:  Loss:     0.0316 Validation Accuracy: 0.677800\n",
      "Epoch 44, CIFAR-10 Batch 5:  Loss:     0.0128 Validation Accuracy: 0.678600\n",
      "Epoch 45, CIFAR-10 Batch 1:  Loss:     0.0146 Validation Accuracy: 0.669000\n",
      "Epoch 45, CIFAR-10 Batch 2:  Loss:     0.0122 Validation Accuracy: 0.675600\n",
      "Epoch 45, CIFAR-10 Batch 3:  Loss:     0.0088 Validation Accuracy: 0.656800\n",
      "Epoch 45, CIFAR-10 Batch 4:  Loss:     0.0311 Validation Accuracy: 0.678600\n",
      "Epoch 45, CIFAR-10 Batch 5:  Loss:     0.0129 Validation Accuracy: 0.680000\n",
      "Epoch 46, CIFAR-10 Batch 1:  Loss:     0.0150 Validation Accuracy: 0.677800\n",
      "Epoch 46, CIFAR-10 Batch 2:  Loss:     0.0147 Validation Accuracy: 0.672200\n",
      "Epoch 46, CIFAR-10 Batch 3:  Loss:     0.0074 Validation Accuracy: 0.654000\n",
      "Epoch 46, CIFAR-10 Batch 4:  Loss:     0.0198 Validation Accuracy: 0.669000\n",
      "Epoch 46, CIFAR-10 Batch 5:  Loss:     0.0110 Validation Accuracy: 0.674600\n",
      "Epoch 47, CIFAR-10 Batch 1:  Loss:     0.0073 Validation Accuracy: 0.676400\n",
      "Epoch 47, CIFAR-10 Batch 2:  Loss:     0.0239 Validation Accuracy: 0.664800\n",
      "Epoch 47, CIFAR-10 Batch 3:  Loss:     0.0070 Validation Accuracy: 0.657400\n",
      "Epoch 47, CIFAR-10 Batch 4:  Loss:     0.0208 Validation Accuracy: 0.666800\n",
      "Epoch 47, CIFAR-10 Batch 5:  Loss:     0.0142 Validation Accuracy: 0.677200\n",
      "Epoch 48, CIFAR-10 Batch 1:  Loss:     0.0258 Validation Accuracy: 0.659200\n",
      "Epoch 48, CIFAR-10 Batch 2:  Loss:     0.0108 Validation Accuracy: 0.664800\n",
      "Epoch 48, CIFAR-10 Batch 3:  Loss:     0.0074 Validation Accuracy: 0.664200\n",
      "Epoch 48, CIFAR-10 Batch 4:  Loss:     0.0167 Validation Accuracy: 0.674600\n",
      "Epoch 48, CIFAR-10 Batch 5:  Loss:     0.0141 Validation Accuracy: 0.677600\n",
      "Epoch 49, CIFAR-10 Batch 1:  Loss:     0.0221 Validation Accuracy: 0.664200\n",
      "Epoch 49, CIFAR-10 Batch 2:  Loss:     0.0157 Validation Accuracy: 0.676400\n",
      "Epoch 49, CIFAR-10 Batch 3:  Loss:     0.0044 Validation Accuracy: 0.664800\n",
      "Epoch 49, CIFAR-10 Batch 4:  Loss:     0.0186 Validation Accuracy: 0.675800\n",
      "Epoch 49, CIFAR-10 Batch 5:  Loss:     0.0119 Validation Accuracy: 0.676600\n",
      "Epoch 50, CIFAR-10 Batch 1:  Loss:     0.0097 Validation Accuracy: 0.675000\n",
      "Epoch 50, CIFAR-10 Batch 2:  Loss:     0.0068 Validation Accuracy: 0.676200\n",
      "Epoch 50, CIFAR-10 Batch 3:  Loss:     0.0057 Validation Accuracy: 0.667000\n",
      "Epoch 50, CIFAR-10 Batch 4:  Loss:     0.0116 Validation Accuracy: 0.670200\n",
      "Epoch 50, CIFAR-10 Batch 5:  Loss:     0.0102 Validation Accuracy: 0.676400\n"
     ]
    }
   ],
   "source": [
    "\"\"\"\n",
    "DON'T MODIFY ANYTHING IN THIS CELLstrides =\n",
    "\"\"\"\n",
    "save_model_path = './image_classification'\n",
    "\n",
    "print('Training...')\n",
    "with tf.Session() as sess:\n",
    "    # Initializing the variables\n",
    "    sess.run(tf.global_variables_initializer())\n",
    "    \n",
    "    # Training cycle\n",
    "    for epoch in range(epochs):\n",
    "        # Loop over all batches\n",
    "        n_batches = 5\n",
    "        for batch_i in range(1, n_batches + 1):\n",
    "            for batch_features, batch_labels in helper.load_preprocess_training_batch(batch_i, batch_size):\n",
    "                train_neural_network(sess, optimizer, keep_probability, batch_features, batch_labels)\n",
    "            print('Epoch {:>2}, CIFAR-10 Batch {}:  '.format(epoch + 1, batch_i), end='')\n",
    "            print_stats(sess, batch_features, batch_labels, cost, accuracy)\n",
    "            \n",
    "    # Save Model\n",
    "    saver = tf.train.Saver()\n",
    "    save_path = saver.save(sess, save_model_path)"
   ]
  },
  {
   "cell_type": "markdown",
   "metadata": {
    "deletable": true,
    "editable": true
   },
   "source": [
    "# Checkpoint\n",
    "The model has been saved to disk.\n",
    "## Test Model\n",
    "Test your model against the test dataset.  This will be your final accuracy. You should have an accuracy greater than 50%. If you don't, keep tweaking the model architecture and parameters."
   ]
  },
  {
   "cell_type": "code",
   "execution_count": 405,
   "metadata": {
    "collapsed": false,
    "deletable": true,
    "editable": true
   },
   "outputs": [
    {
     "name": "stdout",
     "output_type": "stream",
     "text": [
      "Testing Accuracy: 0.6724683544303798\n",
      "\n"
     ]
    },
    {
     "data": {
      "image/png": "[encoded data removed]",
      "text/plain": [
       "<matplotlib.figure.Figure at 0x7f262869c160>"
      ]
     },
     "metadata": {
      "image/png": {
       "height": 319,
       "width": 355
      }
     },
     "output_type": "display_data"
    }
   ],
   "source": [
    "\"\"\"\n",
    "DON'T MODIFY ANYTHING IN THIS CELL\n",
    "\"\"\"\n",
    "%matplotlib inline\n",
    "%config InlineBackend.figure_format = 'retina'\n",
    "\n",
    "import tensorflow as tf\n",
    "import pickle\n",
    "import helper\n",
    "import random\n",
    "\n",
    "# Set batch size if not already set\n",
    "try:\n",
    "    if batch_size:\n",
    "        pass\n",
    "except NameError:\n",
    "    batch_size = 64\n",
    "\n",
    "save_model_path = './image_classification'\n",
    "n_samples = 4\n",
    "top_n_predictions = 3\n",
    "\n",
    "def test_model():\n",
    "    \"\"\"\n",
    "    Test the saved model against the test dataset\n",
    "    \"\"\"\n",
    "\n",
    "    test_features, test_labels = pickle.load(open('preprocess_training.p', mode='rb'))\n",
    "    loaded_graph = tf.Graph()\n",
    "\n",
    "    with tf.Session(graph=loaded_graph) as sess:\n",
    "        # Load model\n",
    "        loader = tf.train.import_meta_graph(save_model_path + '.meta')\n",
    "        loader.restore(sess, save_model_path)\n",
    "\n",
    "        # Get Tensors from loaded model\n",
    "        loaded_x = loaded_graph.get_tensor_by_name('x:0')\n",
    "        loaded_y = loaded_graph.get_tensor_by_name('y:0')\n",
    "        loaded_keep_prob = loaded_graph.get_tensor_by_name('keep_prob:0')\n",
    "        loaded_logits = loaded_graph.get_tensor_by_name('logits:0')\n",
    "        loaded_acc = loaded_graph.get_tensor_by_name('accuracy:0')\n",
    "        \n",
    "        # Get accuracy in batches for memory limitations\n",
    "        test_batch_acc_total = 0\n",
    "        test_batch_count = 0\n",
    "        \n",
    "        for train_feature_batch, train_label_batch in helper.batch_features_labels(test_features, test_labels, batch_size):\n",
    "            test_batch_acc_total += sess.run(\n",
    "                loaded_acc,\n",
    "                feed_dict={loaded_x: train_feature_batch, loaded_y: train_label_batch, loaded_keep_prob: 1.0})\n",
    "            test_batch_count += 1\n",
    "\n",
    "        print('Testing Accuracy: {}\\n'.format(test_batch_acc_total/test_batch_count))\n",
    "\n",
    "        # Print Random Samples\n",
    "        random_test_features, random_test_labels = tuple(zip(*random.sample(list(zip(test_features, test_labels)), n_samples)))\n",
    "        random_test_predictions = sess.run(\n",
    "            tf.nn.top_k(tf.nn.softmax(loaded_logits), top_n_predictions),\n",
    "            feed_dict={loaded_x: random_test_features, loaded_y: random_test_labels, loaded_keep_prob: 1.0})\n",
    "        helper.display_image_predictions(random_test_features, random_test_labels, random_test_predictions)\n",
    "\n",
    "\n",
    "test_model()"
   ]
  },
  {
   "cell_type": "markdown",
   "metadata": {
    "deletable": true,
    "editable": true
   },
   "source": [
    "## Why 50-70% Accuracy?\n",
    "You might be wondering why you can't get an accuracy any higher. First things first, 50% isn't bad for a simple CNN.  Pure guessing would get you 10% accuracy. However, you might notice people are getting scores [well above 70%](http://rodrigob.github.io/are_we_there_yet/build/classification_datasets_results.html#43494641522d3130).  That's because we haven't taught you all there is to know about neural networks. We still need to cover a few more techniques.\n",
    "## Submitting This Project\n",
    "When submitting this project, make sure to run all the cells before saving the notebook.  Save the notebook file as \"dlnd_image_classification.ipynb\" and save it as a HTML file under \"File\" -> \"Download as\".  Include the \"helper.py\" and \"problem_unittests.py\" files in your submission."
   ]
  }
 ],
 "metadata": {
  "anaconda-cloud": {},
  "kernelspec": {
   "display_name": "Python 3",
   "language": "python",
   "name": "python3"
  },
  "language_info": {
   "codemirror_mode": {
    "name": "ipython",
    "version": 3
   },
   "file_extension": ".py",
   "mimetype": "text/x-python",
   "name": "python",
   "nbconvert_exporter": "python",
   "pygments_lexer": "ipython3",
   "version": "3.5.2"
  },
  "widgets": {
   "state": {},
   "version": "1.1.2"
  }
 },
 "nbformat": 4,
 "nbformat_minor": 0
}
